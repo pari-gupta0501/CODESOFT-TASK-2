{
  "nbformat": 4,
  "nbformat_minor": 0,
  "metadata": {
    "colab": {
      "provenance": []
    },
    "kernelspec": {
      "name": "python3",
      "display_name": "Python 3"
    },
    "language_info": {
      "name": "python"
    }
  },
  "cells": [
    {
      "cell_type": "markdown",
      "source": [
        "# **TASK-2**\n",
        "### **TIC-TAC-TOE AI**"
      ],
      "metadata": {
        "id": "BG3oCbipO4sU"
      }
    },
    {
      "cell_type": "markdown",
      "source": [
        "✅ Step-by-Step Plan:\n",
        "\n",
        "1. Design the game board (3x3 matrix).\n",
        "\n",
        "2. Take human input.\n",
        "\n",
        "3. Make AI move using Minimax algorithm.\n",
        "\n",
        "4. Check for win/draw conditions after each move.\n",
        "\n",
        "5. Repeat until game ends.\n",
        "\n",
        "🧠 Minimax Concept (AI Logic):\n",
        "\n",
        " Minimax is a recursive algorithm used in decision making and game theory.\n",
        "\n",
        "*   AI assumes opponent plays optimally and minimizes its own loss.\n",
        "\n",
        "*   AI = Maximizer, Player = Minimizer\n",
        "\n",
        "\n"
      ],
      "metadata": {
        "id": "NUyYWsWPKPmk"
      }
    },
    {
      "cell_type": "markdown",
      "source": [
        "**🎮 How to Play:**\n",
        "\n",
        "Board positions:\n",
        "-----------\n",
        " 0 | 1 | 2\n",
        "-----------\n",
        " 3 | 4 | 5\n",
        "-----------\n",
        " 6 | 7 | 8\n",
        "-----------\n",
        "\n",
        "*You input numbers 0-8 to place 'X'. AI plays 'O'.*"
      ],
      "metadata": {
        "id": "EqdF2xxsMFRo"
      }
    },
    {
      "cell_type": "markdown",
      "source": [],
      "metadata": {
        "id": "KhuEMHPjMFDU"
      }
    },
    {
      "cell_type": "code",
      "execution_count": null,
      "metadata": {
        "colab": {
          "base_uri": "https://localhost:8080/"
        },
        "id": "4d7LVeENHtmE",
        "outputId": "814d50fd-a1b9-468a-e77a-de8b17c434bc"
      },
      "outputs": [
        {
          "output_type": "stream",
          "name": "stdout",
          "text": [
            "Welcome to Tic-Tac-Toe! You are 'X', AI is 'O'\n",
            "|   |   |   |\n",
            "|   |   |   |\n",
            "|   |   |   |\n",
            "Enter your move (0-8): 1\n",
            "|   | X |   |\n",
            "|   |   |   |\n",
            "|   |   |   |\n",
            "AI move:\n",
            "| O | X |   |\n",
            "|   |   |   |\n",
            "|   |   |   |\n",
            "Enter your move (0-8): 4\n",
            "| O | X |   |\n",
            "|   | X |   |\n",
            "|   |   |   |\n",
            "AI move:\n",
            "| O | X |   |\n",
            "|   | X |   |\n",
            "|   | O |   |\n",
            "Enter your move (0-8): 6\n",
            "| O | X |   |\n",
            "|   | X |   |\n",
            "| X | O |   |\n",
            "AI move:\n",
            "| O | X | O |\n",
            "|   | X |   |\n",
            "| X | O |   |\n",
            "Enter your move (0-8): 5\n",
            "| O | X | O |\n",
            "|   | X | X |\n",
            "| X | O |   |\n",
            "AI move:\n",
            "| O | X | O |\n",
            "| O | X | X |\n",
            "| X | O |   |\n",
            "Enter your move (0-8): 8\n",
            "| O | X | O |\n",
            "| O | X | X |\n",
            "| X | O | X |\n",
            "It's a draw!\n"
          ]
        }
      ],
      "source": [
        "import math\n",
        "\n",
        "# Initialize board\n",
        "board = [' ' for _ in range(9)]\n",
        "\n",
        "# Function to print the board\n",
        "def print_board():\n",
        "    for row in [board[i*3:(i+1)*3] for i in range(3)]:\n",
        "        print('| ' + ' | '.join(row) + ' |')\n",
        "\n",
        "# Check for winner\n",
        "def check_winner(board, player):\n",
        "    win_cond = [\n",
        "        [0,1,2], [3,4,5], [6,7,8],   # rows\n",
        "        [0,3,6], [1,4,7], [2,5,8],   # columns\n",
        "        [0,4,8], [2,4,6]             # diagonals\n",
        "    ]\n",
        "    for cond in win_cond:\n",
        "        if all(board[i] == player for i in cond):\n",
        "            return True\n",
        "    return False\n",
        "\n",
        "# Check if board is full\n",
        "def is_full(board):\n",
        "    return ' ' not in board\n",
        "\n",
        "# Minimax algorithm\n",
        "def minimax(board, is_maximizing):\n",
        "    if check_winner(board, 'O'):\n",
        "        return 1\n",
        "    elif check_winner(board, 'X'):\n",
        "        return -1\n",
        "    elif is_full(board):\n",
        "        return 0\n",
        "\n",
        "    if is_maximizing:\n",
        "        best_score = -math.inf\n",
        "        for i in range(9):\n",
        "            if board[i] == ' ':\n",
        "                board[i] = 'O'\n",
        "                score = minimax(board, False)\n",
        "                board[i] = ' '\n",
        "                best_score = max(score, best_score)\n",
        "        return best_score\n",
        "    else:\n",
        "        best_score = math.inf\n",
        "        for i in range(9):\n",
        "            if board[i] == ' ':\n",
        "                board[i] = 'X'\n",
        "                score = minimax(board, True)\n",
        "                board[i] = ' '\n",
        "                best_score = min(score, best_score)\n",
        "        return best_score\n",
        "\n",
        "# AI move\n",
        "def ai_move():\n",
        "    best_score = -math.inf\n",
        "    move = None\n",
        "    for i in range(9):\n",
        "        if board[i] == ' ':\n",
        "            board[i] = 'O'\n",
        "            score = minimax(board, False)\n",
        "            board[i] = ' '\n",
        "            if score > best_score:\n",
        "                best_score = score\n",
        "                move = i\n",
        "    board[move] = 'O'\n",
        "\n",
        "# Main game loop\n",
        "def play_game():\n",
        "    print(\"Welcome to Tic-Tac-Toe! You are 'X', AI is 'O'\")\n",
        "    print_board()\n",
        "\n",
        "    while True:\n",
        "        # Player move\n",
        "        try:\n",
        "            move = int(input(\"Enter your move (0-8): \"))\n",
        "            if board[move] != ' ':\n",
        "                print(\"Spot already taken. Try again.\")\n",
        "                continue\n",
        "            board[move] = 'X'\n",
        "        except (ValueError, IndexError):\n",
        "            print(\"Invalid input. Enter a number between 0 and 8.\")\n",
        "            continue\n",
        "\n",
        "        print_board()\n",
        "        if check_winner(board, 'X'):\n",
        "            print(\"You win!\")\n",
        "            break\n",
        "        if is_full(board):\n",
        "            print(\"It's a draw!\")\n",
        "            break\n",
        "\n",
        "        # AI move\n",
        "        ai_move()\n",
        "        print(\"AI move:\")\n",
        "        print_board()\n",
        "        if check_winner(board, 'O'):\n",
        "            print(\"AI wins!\")\n",
        "            break\n",
        "        if is_full(board):\n",
        "            print(\"It's a draw!\")\n",
        "            break\n",
        "\n",
        "# Run the game\n",
        "play_game()\n"
      ]
    },
    {
      "cell_type": "code",
      "source": [],
      "metadata": {
        "id": "iAsBsyHyNr2t"
      },
      "execution_count": null,
      "outputs": []
    }
  ]
}